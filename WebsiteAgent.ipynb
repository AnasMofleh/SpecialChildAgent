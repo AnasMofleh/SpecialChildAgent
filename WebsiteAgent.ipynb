{
 "cells": [
  {
   "cell_type": "code",
   "execution_count": null,
   "id": "db78f9fe",
   "metadata": {},
   "outputs": [
    {
     "data": {
      "text/plain": [
       "True"
      ]
     },
     "execution_count": 124,
     "metadata": {},
     "output_type": "execute_result"
    }
   ],
   "source": [
    "from semantic_kernel.contents import (\n",
    "    FunctionCallContent,\n",
    "    FunctionResultContent,\n",
    "    StreamingTextContent,\n",
    ")\n",
    "from semantic_kernel.agents import ChatCompletionAgent, ChatHistoryAgentThread\n",
    "from semantic_kernel.connectors.ai.open_ai import OpenAIChatCompletion\n",
    "from semantic_kernel.functions import kernel_function\n",
    "from openai import AsyncOpenAI\n",
    "from dotenv import load_dotenv\n",
    "import os\n",
    "\n",
    "load_dotenv()"
   ]
  },
  {
   "cell_type": "code",
   "execution_count": 125,
   "id": "d94f9db0",
   "metadata": {},
   "outputs": [],
   "source": [
    "endpoint = \"https://models.inference.ai.azure.com/\"\n",
    "# endpoint = \"https://models.github.ai/inference\"\n",
    "model = \"gpt-4o-mini\"  # \"openai/gpt-4.1\"\n",
    "embeddings_model = \"text-embedding-3-large\"  # \"text-embedding-3-small\"\n",
    "token = os.environ[\"OPENAI_API_KEY\"]"
   ]
  },
  {
   "cell_type": "markdown",
   "id": "b6c71990",
   "metadata": {},
   "source": [
    "### 🔧 Initialize OpenAI Client and Chat Completion Service\n",
    "\n",
    "This cell sets up the connection to an OpenAI-compatible API endpoint and prepares the chat completion service used by the agent.\n",
    "\n",
    "- `AsyncOpenAI`: Asynchronous client configured with a custom `base_url` (e.g., Azure or third-party provider) and an API key for authentication.\n",
    "- `OpenAIChatCompletion`: A Semantic Kernel wrapper that enables chat-based completions using the specified model and client.\n",
    "\n",
    "**Parameters:**\n",
    "- `endpoint`: The base URL for the OpenAI-compatible API.\n",
    "- `token`: API key for authentication.\n",
    "- `model`: The identifier for the model to use (e.g., `gpt-4`, `gpt-4o`, or provider-specific).\n",
    "\n",
    "This setup is required for enabling the `ChatCompletionAgent` to send and receive messages using the specified model.\n"
   ]
  },
  {
   "cell_type": "code",
   "execution_count": 126,
   "id": "6d49605b",
   "metadata": {},
   "outputs": [],
   "source": [
    "client = AsyncOpenAI(base_url=endpoint, api_key=token)\n",
    "\n",
    "# Create an AI Service that will be used by the `ChatCompletionAgent`\n",
    "chat_completion_service = OpenAIChatCompletion(ai_model_id=model, async_client=client)"
   ]
  },
  {
   "cell_type": "markdown",
   "id": "5ac20672",
   "metadata": {},
   "source": [
    "### 🧩 WebsiteChatbotPlugin\n",
    "\n",
    "This class enables semantic search over a predefined list of web pages. It:\n",
    "\n",
    "- Loads or builds an index of website content by scraping a list of important links.\n",
    "- Chunks the text into smaller strings of 300.\n",
    "- Uses OpenAI embeddings to represent text chunks.\n",
    "- Provides a kernal function `search_website` method to retrieve relevant information based on user queries, \n",
    "  by computing the cosine similirties and fetching the most relevant answers.\n",
    "- Finally, The model answers provided with information from the top answers."
   ]
  },
  {
   "cell_type": "code",
   "execution_count": null,
   "id": "0471e1db",
   "metadata": {},
   "outputs": [],
   "source": [
    "from website_scraper import WebScraper\n",
    "import numpy as np\n",
    "import pandas as pd\n",
    "\n",
    "\n",
    "class WebsiteChatbotPlugin:\n",
    "    \"\"\"A simple plugin to retrieve relevant content from a website.\"\"\"\n",
    "\n",
    "    def __init__(self, client, embeddings_model):\n",
    "        self.client = client\n",
    "        self.embeddings_model = embeddings_model\n",
    "        self.base_urls = [\n",
    "            \"https://mittspeciellabarn.se/\",\n",
    "            \"https://mittspeciellabarn.se/community-support/\",\n",
    "            \"https://mittspeciellabarn.se/activities/\",\n",
    "            \"https://mittspeciellabarn.se/services/\",\n",
    "            \"https://mittspeciellabarn.se/about-us/\",\n",
    "        ]\n",
    "        self.df = None\n",
    "\n",
    "    async def read_index(self, filename=\"website_index.csv\"):\n",
    "        try:\n",
    "            self.df = pd.read_csv(filename)\n",
    "            self.df[\"embeddings\"] = self.df.embeddings.apply(eval).apply(np.array)\n",
    "            print(f\"✅ Loaded index from {filename}.\")\n",
    "        except FileNotFoundError:\n",
    "            print(f\"❌ File {filename} not found. Building index ...\")\n",
    "            chunks, links = self.build_index()\n",
    "            embeddings = await self.get_embeddings(chunks)\n",
    "            self.df = pd.DataFrame(\n",
    "                {\"url\": links, \"text\": chunks, \"embeddings\": embeddings}\n",
    "            )\n",
    "            self.df.to_csv(filename, index=False)\n",
    "            print(f\"✅ Index built and saved to {filename}.\")\n",
    "\n",
    "    @kernel_function(\n",
    "        description=\"Provides relevant information and resources from the website.\"\n",
    "    )\n",
    "    async def search_website(self, user_query, top_k=3):\n",
    "        try:\n",
    "            print(\"🔍 Searching for relevant information...\")\n",
    "            # Extract actual query text from the dict\n",
    "            if isinstance(user_query, dict):\n",
    "                user_query = list(user_query.values())[0]\n",
    "            user_query_embedding = await self.get_embeddings([user_query])\n",
    "            similarities = self.df.embeddings.apply(\n",
    "                lambda e: self.cosine_similarity(e, user_query_embedding[0])\n",
    "            )\n",
    "            top_indices = similarities.nlargest(top_k).index\n",
    "            top_texts = self.df.loc[top_indices, \"text\"].tolist()\n",
    "            print(\"✅ Found relevant information.\")\n",
    "            return top_texts\n",
    "        except Exception as e:\n",
    "            print(\"❌ Error in search_website function:\", e)\n",
    "            print(\"user_query:\", user_query)\n",
    "            return [\"could not find any relevant information.\"]\n",
    "\n",
    "    ################################################\n",
    "    ############### helper functions ###############\n",
    "    ################################################\n",
    "\n",
    "    def build_index(self, max_level=4):\n",
    "        \"\"\"Build an index of the website content.\"\"\"\n",
    "\n",
    "        unique_links_dict = WebScraper().scrape(self.base_urls, max_level=max_level)\n",
    "        chunks = []\n",
    "        links = []\n",
    "        for url, text in unique_links_dict.items():\n",
    "            if text.strip():\n",
    "                chunked = self.chunk_text(text)\n",
    "                chunks.extend(chunked)\n",
    "                links.extend([url] * len(chunked))\n",
    "        print(\n",
    "            f\"✅ Created {len(chunks)} text chunks ready for embedding. Compared to the original {len(unique_links_dict.keys())} text chunks.\"\n",
    "        )\n",
    "        return chunks, links\n",
    "\n",
    "    def chunk_text(self, text, max_tokens=300):\n",
    "        \"\"\"Chunk the text into smaller pieces of tokens.\"\"\"\n",
    "        words = text.split()\n",
    "        chunks = []\n",
    "        for i in range(0, len(words), max_tokens):\n",
    "            chunk = \" \".join(words[i : i + max_tokens])\n",
    "            if chunk.strip():\n",
    "                chunks.append(chunk)\n",
    "        return chunks\n",
    "\n",
    "    async def get_embeddings(self, texts):\n",
    "        embeddings = await self.client.embeddings.create(input=texts, model=self.embeddings_model, dimensions=1536)\n",
    "        embeddings = [e.embedding for e in embeddings.data]\n",
    "        return embeddings\n",
    "\n",
    "    async def get_embedding(self, text):\n",
    "        embeddings = await self.client.embeddings.create(\n",
    "            input=[text], model=self.embeddings_model, dimensions=1536)\n",
    "        return embeddings.data[0].embedding\n",
    "\n",
    "    def cosine_similarity(self, a, b):\n",
    "        from scipy.spatial.distance import cosine\n",
    "\n",
    "        # Note that scipy.spatial.distance.cosine computes the cosine distance, which is 1 - cosine similarity.\n",
    "        # https://en.wikipedia.org/wiki/Cosine_similarity#Cosine_distance\n",
    "        return 1 - cosine(a, b)"
   ]
  },
  {
   "cell_type": "markdown",
   "id": "bf948a5d",
   "metadata": {},
   "source": [
    "### 🤖 ChatCompletionAgent Setup\n",
    "\n",
    "This section initializes the AI agent that will assist users in querying the *Mitt Speciella Barn* website.\n",
    "\n",
    "- **AGENT_INSTRUCTIONS**: Provides role guidance and interaction style for the assistant.\n",
    "- **WebsiteChatbotPlugin**: Loads the website index to enable semantic search.\n",
    "- **ChatCompletionAgent**: Wraps the chat completion service with the plugin and instructions to act as a helpful assistant focused on website content related to children with disabilities.\n"
   ]
  },
  {
   "cell_type": "code",
   "execution_count": 128,
   "id": "5fb3c316",
   "metadata": {},
   "outputs": [
    {
     "name": "stdout",
     "output_type": "stream",
     "text": [
      "✅ Loaded index from website_index.csv.\n"
     ]
    }
   ],
   "source": [
    "AGENT_INSTRUCTIONS = \"\"\"\n",
    "\n",
    "You are a helpful AI Agent that can assist users in finding relevant information and resources regarding children with special needs from the \"MittSpeciellaBarn\" website.\n",
    "\n",
    "Important: When users specify a topic or query, always focus on providing information related to that topic from the website. \n",
    "Only suggest general resources when an answer is not relevant from the website. prioritize user preferences. \n",
    "\n",
    "When the conversation begins, introduce yourself with this message:\n",
    "\"Hello! I'm your Mitt Speciella Barn assistant. I can help you find information resources and activites related to support for children and individuals with disabilities. Here are some things you can ask me:\n",
    "1. How to apply for financial support for children with disabilities.\n",
    "2. Information about specific services or activities.\n",
    "3. Details about community support and resources.\n",
    "\n",
    "What can I help you with today?\"\n",
    "\n",
    "Always  \n",
    "Answer in the same langague as the question and provide a link (if exists) to the relevant page on the website at the end of the response.\n",
    "If they mention a specific topic like \"financial support\" or \"community activities,\" focus your assistance on that topic rather than suggesting unrelated resources. \n",
    "\"\"\"\n",
    "\n",
    "wcp = WebsiteChatbotPlugin(client=client, embeddings_model=embeddings_model)\n",
    "await wcp.read_index(filename=\"website_index.csv\")\n",
    "\n",
    "agent = ChatCompletionAgent(\n",
    "    service=chat_completion_service,\n",
    "    plugins=[wcp],\n",
    "    name=\"WebsiteAgent\",\n",
    "    instructions=AGENT_INSTRUCTIONS,\n",
    ")"
   ]
  },
  {
   "cell_type": "code",
   "execution_count": 129,
   "id": "e13fdbcb",
   "metadata": {},
   "outputs": [],
   "source": [
    "# A list of example queries covering different user intents and languages.\n",
    "\n",
    "user_inputs = [\n",
    "    \"Hur kan jag ansöka om ekonomiskt stöd för mitt barn med funktionsnedsättning?\",\n",
    "    \"اين الخدمات المتاحة لدعم الأطفال ذوي الاحتياجات الخاصة؟\",\n",
    "    \"what are the activities that I can do for my child with special needs in Helsingborg?\",\n",
    "]"
   ]
  },
  {
   "cell_type": "markdown",
   "id": "a0bf880a",
   "metadata": {},
   "source": [
    "### 🧪 Testing the Website Agent with Multilingual Inputs\n",
    "\n",
    "This section runs a simulated interaction with the `ChatCompletionAgent` using various user queries in Swedish, Arabic, and English.\n",
    "\n",
    "- **main()**:\n",
    "  - Iterates over each input and streams the assistant's response.\n",
    "  - Tracks and reconstructs streamed function calls and their results.\n",
    "  - Displays the user query, assistant response, and any function call details in a styled HTML format for easy readability.\n",
    "- **Thread Management**: Maintains conversation continuity across multiple queries by reusing the `thread` object.\n"
   ]
  },
  {
   "cell_type": "code",
   "execution_count": 130,
   "id": "0b7fbfa9",
   "metadata": {
    "slideshow": {
     "slide_type": "fragment"
    }
   },
   "outputs": [
    {
     "name": "stdout",
     "output_type": "stream",
     "text": [
      "🔍 Searching for relevant information...\n"
     ]
    },
    {
     "data": {
      "text/html": [
       "\n",
       "        <section style=\"margin:1em 0; font-family:Arial, sans-serif;\">\n",
       "            <div style=\"font-weight:bold;\">👤 User:</div>\n",
       "            <div style=\"margin-left:1em;\">Hur kan jag ansöka om ekonomiskt stöd för mitt barn med funktionsnedsättning?</div>\n",
       "        </section>\n",
       "        \n",
       "        <section style=\"margin:1em 0;\">\n",
       "            <div style=\"font-weight:bold;\">🤖 WebsiteAgent:</div>\n",
       "            <div style=\"margin-left:1em; white-space:pre-wrap;\">För att ansöka om ekonomiskt stöd för ditt barn med funktionsnedsättning kan du börja med att kontakta din kommun, eftersom de har det yttersta ansvaret för stödet till medborgarna. Stödet kan variera beroende på dina och ditt barns behov.\n",
       "\n",
       "Du kan också besöka olika resurser och organisationer som kan ge dig mer information, till exempel:\n",
       "\n",
       "- [Socialstyrelsen - Samhällets stöd](https://www.socialstyrelsen.se/kunskapsstod-och-regler/omraden/sallsynta-halsotillstand/samhallets-stod/)\n",
       "- [Försäkringskassan - Stöd för personer med funktionsnedsättning](https://www.forsakringskassan.se/privatperson/funktionsnedsattning)\n",
       "\n",
       "Det kan också vara bra att kolla in projekt och stöd från  [Min Stora Dag](https://minstoradag.org/) och [Arvsfonden](https://www.arvsfonden.se/projekt/alla-projekt).\n",
       "\n",
       "Om du har frågor eller behöver specifik vägledning kan du kontakta Mitt Speciella Barn via e-post på mittspeciellabarn@gmail.com.\n",
       "\n",
       "Här är en länk till vår hemsida för mer information: [Mitt Speciella Barn](https://helsingborg.se/omsorg-och-stod/funktionsnedsattning/stod-enligt-lss/daglig-verksamhet/dagliga-verksamheter-i-helsingborg/navigator/)</div>\n",
       "        </section>\n",
       "        <hr style=\"border:none; border-top:1px solid #ccc; margin:2em 0;\">\n",
       "        "
      ],
      "text/plain": [
       "<IPython.core.display.HTML object>"
      ]
     },
     "metadata": {},
     "output_type": "display_data"
    },
    {
     "name": "stdout",
     "output_type": "stream",
     "text": [
      "🔍 Searching for relevant information...\n"
     ]
    },
    {
     "data": {
      "text/html": [
       "\n",
       "        <section style=\"margin:1em 0; font-family:Arial, sans-serif;\">\n",
       "            <div style=\"font-weight:bold;\">👤 User:</div>\n",
       "            <div style=\"margin-left:1em;\">اين الخدمات المتاحة لدعم الأطفال ذوي الاحتياجات الخاصة؟</div>\n",
       "        </section>\n",
       "        \n",
       "        <section style=\"margin:1em 0;\">\n",
       "            <div style=\"font-weight:bold;\">🤖 WebsiteAgent:</div>\n",
       "            <div style=\"margin-left:1em; white-space:pre-wrap;\">يمكنك العثور على مجموعة متنوعة من الخدمات المتاحة لدعم الأطفال ذوي الاحتياجات الخاصة من خلال العديد من المؤسسات. إليك بعض الموارد الهامة:\n",
       "\n",
       "1. **الخدمات التعليمية**: توفر المدارس ورياض الأطفال الدعم اللازم لكل طالب لضمان نموه وتطوره وفقًا لظروفه الفردية. يمكن العثور على معلومات حول هذه الخدمات هنا: [الدعم في المدرسة](https://vard.skane.se/habilitering-och-hjalpmedel/stod-och-behandling/samhallets-stod/skola-och-utbildning/).\n",
       "\n",
       "2. **جمعيات الدعم**: هناك العديد من الجمعيات المكرسة لدعم الأفراد ذوي الاحتياجات الخاصة وعائلاتهم. يمكنك التواصل مع جمعية &quot;Mitt Speciella Barn&quot; لمزيد من المعلومات واستشارة: بريدهم الإلكتروني هو mittspeciellabarn@gmail.com.\n",
       "\n",
       "3. **برامج التدوين والندوات**: هناك توفر أيضًا تدريبات وموارد رقمية لدعم هؤلاء الأطفال. يمكنك زيارة المواقع مثل [Attention](https://attention.se/utbildning/) للحصول على معلومات إضافية حول التدريب والدعم.\n",
       "\n",
       "إذا كنت بحاجة إلى معلومات أكثر تفصيلاً، يمكنك زيارة المواقع المرتبطة أدناه.</div>\n",
       "        </section>\n",
       "        <hr style=\"border:none; border-top:1px solid #ccc; margin:2em 0;\">\n",
       "        "
      ],
      "text/plain": [
       "<IPython.core.display.HTML object>"
      ]
     },
     "metadata": {},
     "output_type": "display_data"
    },
    {
     "name": "stdout",
     "output_type": "stream",
     "text": [
      "🔍 Searching for relevant information...\n"
     ]
    },
    {
     "data": {
      "text/html": [
       "\n",
       "        <section style=\"margin:1em 0; font-family:Arial, sans-serif;\">\n",
       "            <div style=\"font-weight:bold;\">👤 User:</div>\n",
       "            <div style=\"margin-left:1em;\">what are the activities that I can do for my child with special needs in Helsingborg?</div>\n",
       "        </section>\n",
       "        \n",
       "        <section style=\"margin:1em 0;\">\n",
       "            <div style=\"font-weight:bold;\">🤖 WebsiteAgent:</div>\n",
       "            <div style=\"margin-left:1em; white-space:pre-wrap;\">In Helsingborg, there are a variety of activities available for children with special needs. Here are some options you might consider:\n",
       "\n",
       "1. **Family Groups and Lectures**: You can participate in activities, lectures, and family groups that are aimed at caregivers and those supporting loved ones due to disabilities. More information can be found here: [Relative Support Activities](https://helsingborg.se/omsorg-och-stod/anhorigstod/rad-och-stod/).\n",
       "\n",
       "2. **Daily Activities**: Various daily activities for individuals with special needs are provided. You can explore the offerings through this link: [Daily Activities in Helsingborg](https://helsingborg.se/omsorg-och-stod/funktionsnedsattning/stod-enligt-lss/daglig-verksamhet/dagliga-verksamheter-i-helsingborg/navigator/).\n",
       "\n",
       "3. **Project Initiatives**: There are projects that focus on supporting individuals with special needs. You can check out these initiatives at [Arvsfonden Projects](https://www.arvsfonden.se/projekt/alla-projekt) or [Min Stora Dag](https://minstoradag.org/).\n",
       "\n",
       "4. **Networking Opportunities**: Engaging with local networks and support groups can also provide valuable resources and information on activities tailored for your child’s needs.\n",
       "\n",
       "If you want more specific details or need assistance with finding events, consider reaching out to the Mitt Speciella Barn association at mittspeciellabarn@gmail.com. They are dedicated to supporting individuals with special needs and can provide more personalized guidance. \n",
       "\n",
       "For more information, visit [Mitt Speciella Barn](https://helsingborg.se/omsorg-och-stod/funktionsnedsattning/stod-enligt-lss/daglig-verksamhet/dagliga-verksamheter-i-helsingborg/navigator/).</div>\n",
       "        </section>\n",
       "        <hr style=\"border:none; border-top:1px solid #ccc; margin:2em 0;\">\n",
       "        "
      ],
      "text/plain": [
       "<IPython.core.display.HTML object>"
      ]
     },
     "metadata": {},
     "output_type": "display_data"
    }
   ],
   "source": [
    "from IPython.display import display, HTML\n",
    "import json\n",
    "import html\n",
    "\n",
    "# Emoji icons for accessibility and readability\n",
    "ICONS = {\n",
    "    \"user\": \"👤\",\n",
    "    \"agent\": \"🤖\",\n",
    "    \"function\": \"🛠️\",\n",
    "    \"result\": \"📄\"\n",
    "}\n",
    "\n",
    "async def main():\n",
    "    thread: ChatHistoryAgentThread | None = None\n",
    "\n",
    "    for user_input in user_inputs:\n",
    "        escaped_input = html.escape(user_input)\n",
    "        html_output = f\"\"\"\n",
    "        <section style=\"margin:1em 0; font-family:Arial, sans-serif;\">\n",
    "            <div style=\"font-weight:bold;\">{ICONS['user']} User:</div>\n",
    "            <div style=\"margin-left:1em;\">{escaped_input}</div>\n",
    "        </section>\n",
    "        \"\"\"\n",
    "\n",
    "        agent_name = None\n",
    "        full_response: list[str] = []\n",
    "        function_calls: list[str] = []\n",
    "        current_function_name = None\n",
    "        argument_buffer = \"\"\n",
    "\n",
    "        async for response in agent.invoke_stream(messages=user_input, thread=thread):\n",
    "            thread = response.thread\n",
    "            agent_name = response.name\n",
    "            content_items = list(response.items)\n",
    "\n",
    "            for item in content_items:\n",
    "                if isinstance(item, FunctionCallContent):\n",
    "                    if item.function_name:\n",
    "                        current_function_name = item.function_name\n",
    "                    if isinstance(item.arguments, str):\n",
    "                        argument_buffer += item.arguments\n",
    "\n",
    "                elif isinstance(item, FunctionResultContent):\n",
    "                    if current_function_name:\n",
    "                        formatted_args = argument_buffer.strip()\n",
    "                        try:\n",
    "                            parsed_args = json.loads(formatted_args)\n",
    "                            formatted_args = json.dumps(parsed_args, indent=2)\n",
    "                        except Exception:\n",
    "                            pass\n",
    "                        function_calls.append(\n",
    "                            f\"<div><strong>{ICONS['function']} Calling:</strong> {current_function_name}\"\n",
    "                            f\"<pre style='background:#eee; padding:0.5em; border-radius:5px;'>{html.escape(formatted_args)}</pre></div>\"\n",
    "                        )\n",
    "                        current_function_name = None\n",
    "                        argument_buffer = \"\"\n",
    "\n",
    "                    function_calls.append(\n",
    "                        f\"<div><strong>{ICONS['result']} Result:</strong><pre style='background:#f0f0f0; padding:0.5em; border-radius:5px;'>{html.escape(str(item.result))}</pre></div>\"\n",
    "                    )\n",
    "\n",
    "                elif isinstance(item, StreamingTextContent) and item.text:\n",
    "                    full_response.append(item.text)\n",
    "\n",
    "        # Collapsible function call section\n",
    "        if function_calls:\n",
    "            html_output += f\"\"\"\n",
    "            <details style=\"margin:1em 0;\">\n",
    "                <summary style=\"cursor:pointer; font-weight:bold; color:#336699;\">\n",
    "                    {ICONS['function']} Function Calls (click to expand)\n",
    "                </summary>\n",
    "                <div style=\"margin-top:0.5em; font-size:0.95em;\">\n",
    "                    {\"<hr>\".join(function_calls)}\n",
    "                </div>\n",
    "            </details>\n",
    "            \"\"\"\n",
    "\n",
    "        # Assistant response\n",
    "        html_output += f\"\"\"\n",
    "        <section style=\"margin:1em 0;\">\n",
    "            <div style=\"font-weight:bold;\">{ICONS['agent']} {html.escape(agent_name or 'Assistant')}:</div>\n",
    "            <div style=\"margin-left:1em; white-space:pre-wrap;\">{html.escape(''.join(full_response))}</div>\n",
    "        </section>\n",
    "        <hr style=\"border:none; border-top:1px solid #ccc; margin:2em 0;\">\n",
    "        \"\"\"\n",
    "\n",
    "        display(HTML(html_output))\n",
    "\n",
    "await main()"
   ]
  },
  {
   "cell_type": "code",
   "execution_count": null,
   "id": "eabe2d8c",
   "metadata": {},
   "outputs": [],
   "source": []
  }
 ],
 "metadata": {
  "kernelspec": {
   "display_name": "Python 3",
   "language": "python",
   "name": "python3"
  },
  "language_info": {
   "codemirror_mode": {
    "name": "ipython",
    "version": 3
   },
   "file_extension": ".py",
   "mimetype": "text/x-python",
   "name": "python",
   "nbconvert_exporter": "python",
   "pygments_lexer": "ipython3",
   "version": "3.13.3"
  }
 },
 "nbformat": 4,
 "nbformat_minor": 5
}
